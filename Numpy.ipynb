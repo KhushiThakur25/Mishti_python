{
 "cells": [
  {
   "cell_type": "code",
   "execution_count": 2,
   "id": "b0afb62f-7c92-478f-b454-d786f4145ba7",
   "metadata": {},
   "outputs": [],
   "source": [
    "import numpy as np"
   ]
  },
  {
   "cell_type": "code",
   "execution_count": 5,
   "id": "fd15ab82-c706-482f-a571-34e0e5d08dff",
   "metadata": {},
   "outputs": [],
   "source": [
    "arr = np.array([1,2,3,4,5,6])"
   ]
  },
  {
   "cell_type": "code",
   "execution_count": 7,
   "id": "475f3560-1e1f-41d9-b4dd-d46da71f7a48",
   "metadata": {},
   "outputs": [
    {
     "data": {
      "text/plain": [
       "numpy.ndarray"
      ]
     },
     "execution_count": 7,
     "metadata": {},
     "output_type": "execute_result"
    }
   ],
   "source": [
    "type(arr)"
   ]
  },
  {
   "cell_type": "code",
   "execution_count": 9,
   "id": "b9c5dcb1-6d44-483a-a17f-38e22e8d89e7",
   "metadata": {},
   "outputs": [],
   "source": [
    "arr1 = np.arange(2,25,2)"
   ]
  },
  {
   "cell_type": "code",
   "execution_count": 11,
   "id": "a72fb873-f5d4-4300-beb3-2cb5a8e91b00",
   "metadata": {},
   "outputs": [
    {
     "data": {
      "text/plain": [
       "array([ 2,  4,  6,  8, 10, 12, 14, 16, 18, 20, 22, 24])"
      ]
     },
     "execution_count": 11,
     "metadata": {},
     "output_type": "execute_result"
    }
   ],
   "source": [
    "arr1"
   ]
  },
  {
   "cell_type": "code",
   "execution_count": 29,
   "id": "f8ffe4f8-ad52-4655-a454-d11ba42312bb",
   "metadata": {},
   "outputs": [],
   "source": [
    "arr2 = np.linspace(2,15,14)"
   ]
  },
  {
   "cell_type": "code",
   "execution_count": 31,
   "id": "604a62e8-c5f5-4467-8585-3065942babe5",
   "metadata": {},
   "outputs": [
    {
     "data": {
      "text/plain": [
       "array([ 2.,  3.,  4.,  5.,  6.,  7.,  8.,  9., 10., 11., 12., 13., 14.,\n",
       "       15.])"
      ]
     },
     "execution_count": 31,
     "metadata": {},
     "output_type": "execute_result"
    }
   ],
   "source": [
    "arr2"
   ]
  },
  {
   "cell_type": "code",
   "execution_count": 17,
   "id": "3e014da6-6b03-431e-9073-4ccfc5a830a0",
   "metadata": {},
   "outputs": [
    {
     "data": {
      "text/plain": [
       "0.4482758600000003"
      ]
     },
     "execution_count": 17,
     "metadata": {},
     "output_type": "execute_result"
    }
   ],
   "source": [
    " 2.89655172 - 2.44827586"
   ]
  },
  {
   "cell_type": "code",
   "execution_count": 19,
   "id": "7e24ef3c-607e-48a1-9372-5f6e85f19b38",
   "metadata": {},
   "outputs": [
    {
     "data": {
      "text/plain": [
       "0.44827585999999986"
      ]
     },
     "execution_count": 19,
     "metadata": {},
     "output_type": "execute_result"
    }
   ],
   "source": [
    "2.44827586 - 2.00000000"
   ]
  },
  {
   "cell_type": "code",
   "execution_count": 33,
   "id": "56f79c48-2937-4d75-be50-16485ac90208",
   "metadata": {},
   "outputs": [
    {
     "data": {
      "text/plain": [
       "array([0., 0., 0., 0., 0., 0.])"
      ]
     },
     "execution_count": 33,
     "metadata": {},
     "output_type": "execute_result"
    }
   ],
   "source": [
    "np.zeros(6)"
   ]
  },
  {
   "cell_type": "code",
   "execution_count": 35,
   "id": "3520a28a-fc7e-4b68-93f5-ca31edcb7007",
   "metadata": {},
   "outputs": [
    {
     "data": {
      "text/plain": [
       "array([1., 1., 1., 1., 1., 1., 1., 1.])"
      ]
     },
     "execution_count": 35,
     "metadata": {},
     "output_type": "execute_result"
    }
   ],
   "source": [
    "np.ones(8)"
   ]
  },
  {
   "cell_type": "code",
   "execution_count": 37,
   "id": "5d58cdbd-654f-4f2f-9add-e06fd03dccfa",
   "metadata": {},
   "outputs": [
    {
     "data": {
      "text/plain": [
       "array([7, 7, 7, 7, 7])"
      ]
     },
     "execution_count": 37,
     "metadata": {},
     "output_type": "execute_result"
    }
   ],
   "source": [
    "np.full(5,7)"
   ]
  },
  {
   "cell_type": "code",
   "execution_count": 39,
   "id": "48f77a15-ab05-46c4-8eb2-e8b3ee71aed9",
   "metadata": {},
   "outputs": [
    {
     "data": {
      "text/plain": [
       "array([[8, 8, 8],\n",
       "       [8, 8, 8]])"
      ]
     },
     "execution_count": 39,
     "metadata": {},
     "output_type": "execute_result"
    }
   ],
   "source": [
    "np.full((2,3),8)"
   ]
  },
  {
   "cell_type": "code",
   "execution_count": 41,
   "id": "91420bc5-9400-4ba7-ac6f-9157f469dc95",
   "metadata": {},
   "outputs": [
    {
     "data": {
      "text/plain": [
       "array([[ 4,  6,  6,  7],\n",
       "       [12,  3,  3, 13],\n",
       "       [ 4,  1, 10,  1]])"
      ]
     },
     "execution_count": 41,
     "metadata": {},
     "output_type": "execute_result"
    }
   ],
   "source": [
    "np.random.randint(1,15,(3,4))"
   ]
  },
  {
   "cell_type": "code",
   "execution_count": 43,
   "id": "dc64c675-86c7-4925-abeb-0f975212ea13",
   "metadata": {},
   "outputs": [
    {
     "data": {
      "text/plain": [
       "array([1, 2, 3, 4, 5, 6])"
      ]
     },
     "execution_count": 43,
     "metadata": {},
     "output_type": "execute_result"
    }
   ],
   "source": [
    "arr"
   ]
  },
  {
   "cell_type": "code",
   "execution_count": 45,
   "id": "9c438acb-a9aa-4ede-affe-8f52174c0ccf",
   "metadata": {},
   "outputs": [
    {
     "data": {
      "text/plain": [
       "array([3, 4, 5, 6, 7, 8])"
      ]
     },
     "execution_count": 45,
     "metadata": {},
     "output_type": "execute_result"
    }
   ],
   "source": [
    "arr + 2"
   ]
  },
  {
   "cell_type": "code",
   "execution_count": 47,
   "id": "6a8f0229-0bb2-48fb-86be-2631a07ad2b8",
   "metadata": {},
   "outputs": [
    {
     "data": {
      "text/plain": [
       "21"
      ]
     },
     "execution_count": 47,
     "metadata": {},
     "output_type": "execute_result"
    }
   ],
   "source": [
    "np.sum(arr)"
   ]
  },
  {
   "cell_type": "code",
   "execution_count": 49,
   "id": "290740f1-466f-472f-906b-80e83b65bcee",
   "metadata": {},
   "outputs": [
    {
     "data": {
      "text/plain": [
       "1"
      ]
     },
     "execution_count": 49,
     "metadata": {},
     "output_type": "execute_result"
    }
   ],
   "source": [
    "np.min(arr)"
   ]
  },
  {
   "cell_type": "code",
   "execution_count": 51,
   "id": "15ce3890-3684-4076-a964-263f8c0537f6",
   "metadata": {},
   "outputs": [
    {
     "data": {
      "text/plain": [
       "6"
      ]
     },
     "execution_count": 51,
     "metadata": {},
     "output_type": "execute_result"
    }
   ],
   "source": [
    "np.max(arr)"
   ]
  },
  {
   "cell_type": "code",
   "execution_count": 53,
   "id": "9b8e7640-8fc0-4772-9dbc-bd3e7e029cd6",
   "metadata": {
    "scrolled": true
   },
   "outputs": [
    {
     "data": {
      "text/plain": [
       "6"
      ]
     },
     "execution_count": 53,
     "metadata": {},
     "output_type": "execute_result"
    }
   ],
   "source": [
    "max(arr)"
   ]
  },
  {
   "cell_type": "code",
   "execution_count": 55,
   "id": "bcf1b05f-b30d-4478-84a0-9793c45e8cc0",
   "metadata": {},
   "outputs": [
    {
     "data": {
      "text/plain": [
       "3.5"
      ]
     },
     "execution_count": 55,
     "metadata": {},
     "output_type": "execute_result"
    }
   ],
   "source": [
    "np.mean(arr)"
   ]
  },
  {
   "cell_type": "code",
   "execution_count": 57,
   "id": "8c39729f-23a3-4a5f-a6b0-b5ee3803c372",
   "metadata": {},
   "outputs": [
    {
     "data": {
      "text/plain": [
       "1.707825127659933"
      ]
     },
     "execution_count": 57,
     "metadata": {},
     "output_type": "execute_result"
    }
   ],
   "source": [
    "np.std(arr)"
   ]
  },
  {
   "cell_type": "code",
   "execution_count": 61,
   "id": "22878fe7-59dc-4726-92e3-d79e28993f99",
   "metadata": {},
   "outputs": [
    {
     "data": {
      "text/plain": [
       "array([1.        , 1.41421356, 1.73205081, 2.        , 2.23606798,\n",
       "       2.44948974])"
      ]
     },
     "execution_count": 61,
     "metadata": {},
     "output_type": "execute_result"
    }
   ],
   "source": [
    "np.sqrt(arr)"
   ]
  },
  {
   "cell_type": "code",
   "execution_count": 63,
   "id": "b68068e7-ef68-4b93-85ee-e5b4a500dfb2",
   "metadata": {},
   "outputs": [
    {
     "data": {
      "text/plain": [
       "0.8939966636005579"
      ]
     },
     "execution_count": 63,
     "metadata": {},
     "output_type": "execute_result"
    }
   ],
   "source": [
    "np.sin(90)"
   ]
  },
  {
   "cell_type": "code",
   "execution_count": 67,
   "id": "c7819746-22ec-4ee6-9024-d76a5d3445e3",
   "metadata": {},
   "outputs": [],
   "source": [
    "pi = 180"
   ]
  },
  {
   "cell_type": "code",
   "execution_count": 69,
   "id": "6aa90578-e83b-4dc0-aef8-7a5de9c43057",
   "metadata": {},
   "outputs": [
    {
     "data": {
      "text/plain": [
       "0.8939966636005579"
      ]
     },
     "execution_count": 69,
     "metadata": {},
     "output_type": "execute_result"
    }
   ],
   "source": [
    "np.sin(pi/2)"
   ]
  },
  {
   "cell_type": "code",
   "execution_count": 71,
   "id": "6d65c45f-8edd-46d6-a3f6-dbc5f7dfbb06",
   "metadata": {},
   "outputs": [
    {
     "data": {
      "text/plain": [
       "3.141592653589793"
      ]
     },
     "execution_count": 71,
     "metadata": {},
     "output_type": "execute_result"
    }
   ],
   "source": [
    "np.pi"
   ]
  },
  {
   "cell_type": "code",
   "execution_count": 73,
   "id": "48d43e5f-fe20-4ec8-9e40-150a9dc782ed",
   "metadata": {},
   "outputs": [
    {
     "data": {
      "text/plain": [
       "array([3, 4, 5, 6])"
      ]
     },
     "execution_count": 73,
     "metadata": {},
     "output_type": "execute_result"
    }
   ],
   "source": [
    "arr[arr > 2]"
   ]
  },
  {
   "cell_type": "code",
   "execution_count": 79,
   "id": "768437a9-4969-4f57-8c14-726d418abce1",
   "metadata": {},
   "outputs": [
    {
     "data": {
      "text/plain": [
       "array([[1, 2, 3],\n",
       "       [4, 5, 6]])"
      ]
     },
     "execution_count": 79,
     "metadata": {},
     "output_type": "execute_result"
    }
   ],
   "source": [
    "np.reshape(arr,(2,3))"
   ]
  },
  {
   "cell_type": "code",
   "execution_count": 4,
   "id": "2b94a7f0-97fd-454d-8887-c66506f98a41",
   "metadata": {},
   "outputs": [],
   "source": [
    "list1 = [i for i in range(1,1000000)]\n",
    "list2 = [i for i in range(1,1000000)]\n",
    "\n",
    "arr1 = np.array(list1)\n",
    "arr2 = np.array(list2)"
   ]
  },
  {
   "cell_type": "code",
   "execution_count": 9,
   "id": "d33a5c14-669b-4b76-9b86-fe606e40ec26",
   "metadata": {},
   "outputs": [],
   "source": [
    "import sys"
   ]
  },
  {
   "cell_type": "code",
   "execution_count": 15,
   "id": "fefec665-8d59-4d69-9efc-5ed73e3cd205",
   "metadata": {},
   "outputs": [
    {
     "data": {
      "text/plain": [
       "56"
      ]
     },
     "execution_count": 15,
     "metadata": {},
     "output_type": "execute_result"
    }
   ],
   "source": [
    "sys.getsizeof(list())"
   ]
  },
  {
   "cell_type": "code",
   "execution_count": 19,
   "id": "25e6eb2b-0985-498c-8712-a164e0f03916",
   "metadata": {},
   "outputs": [
    {
     "data": {
      "text/plain": [
       "112"
      ]
     },
     "execution_count": 19,
     "metadata": {},
     "output_type": "execute_result"
    }
   ],
   "source": [
    "sys.getsizeof(np.array([]))"
   ]
  },
  {
   "cell_type": "code",
   "execution_count": 25,
   "id": "2615ac25-8709-46f3-94ce-79efa58c4cc6",
   "metadata": {},
   "outputs": [
    {
     "data": {
      "text/plain": [
       "184"
      ]
     },
     "execution_count": 25,
     "metadata": {},
     "output_type": "execute_result"
    }
   ],
   "source": [
    "sys.getsizeof([1,2,3,4,5,6,7,8,9,10,11,12,13,14,15])"
   ]
  },
  {
   "cell_type": "code",
   "execution_count": 27,
   "id": "d7d24a64-68f3-44d9-aadd-aa5290cce8d4",
   "metadata": {},
   "outputs": [
    {
     "data": {
      "text/plain": [
       "172"
      ]
     },
     "execution_count": 27,
     "metadata": {},
     "output_type": "execute_result"
    }
   ],
   "source": [
    "sys.getsizeof(np.array([1,2,3,4,5,6,7,8,9,10,11,12,13,14,15]))"
   ]
  },
  {
   "cell_type": "code",
   "execution_count": 29,
   "id": "8f512c10-cefa-46a2-9a6f-71eb9d45fc3c",
   "metadata": {},
   "outputs": [
    {
     "data": {
      "text/plain": [
       "8448728"
      ]
     },
     "execution_count": 29,
     "metadata": {},
     "output_type": "execute_result"
    }
   ],
   "source": [
    "sys.getsizeof(list1)"
   ]
  },
  {
   "cell_type": "code",
   "execution_count": 31,
   "id": "678d5f77-f9ee-4a42-905e-1c4bee0df758",
   "metadata": {},
   "outputs": [
    {
     "data": {
      "text/plain": [
       "4000108"
      ]
     },
     "execution_count": 31,
     "metadata": {},
     "output_type": "execute_result"
    }
   ],
   "source": [
    "sys.getsizeof(arr1)"
   ]
  },
  {
   "cell_type": "code",
   "execution_count": 6,
   "id": "e5ef4657-2c9c-4682-826b-a0e3f6433e3d",
   "metadata": {},
   "outputs": [],
   "source": [
    "import time"
   ]
  },
  {
   "cell_type": "code",
   "execution_count": 40,
   "id": "3c171b6d-22ed-48ed-bb9c-43b2f8895907",
   "metadata": {},
   "outputs": [],
   "source": [
    "list3 = [i for i in range(1,1000000)]\n",
    "start = time.time()\n",
    "for i in range(len(list1)):\n",
    "    list3[i] = list1[i] + list2[i]\n",
    "end = time.time()\n",
    "total = end - start"
   ]
  },
  {
   "cell_type": "code",
   "execution_count": 42,
   "id": "b21f5a1c-fe64-4ea9-bf6a-cbe371e6f6b2",
   "metadata": {},
   "outputs": [
    {
     "data": {
      "text/plain": [
       "0.35765886306762695"
      ]
     },
     "execution_count": 42,
     "metadata": {},
     "output_type": "execute_result"
    }
   ],
   "source": [
    "total"
   ]
  },
  {
   "cell_type": "code",
   "execution_count": 8,
   "id": "bdc7ba9c-8124-47d6-923d-87b88e28d7b9",
   "metadata": {},
   "outputs": [
    {
     "data": {
      "text/plain": [
       "0.0019783973693847656"
      ]
     },
     "execution_count": 8,
     "metadata": {},
     "output_type": "execute_result"
    }
   ],
   "source": [
    "start = time.time()\n",
    "arr3 = arr1 + arr2\n",
    "end = time.time()\n",
    "total = end - start\n",
    "total"
   ]
  },
  {
   "cell_type": "code",
   "execution_count": null,
   "id": "91494c69-33ac-4f4c-90c2-baec9e710bc0",
   "metadata": {},
   "outputs": [],
   "source": []
  }
 ],
 "metadata": {
  "kernelspec": {
   "display_name": "Python 3 (ipykernel)",
   "language": "python",
   "name": "python3"
  },
  "language_info": {
   "codemirror_mode": {
    "name": "ipython",
    "version": 3
   },
   "file_extension": ".py",
   "mimetype": "text/x-python",
   "name": "python",
   "nbconvert_exporter": "python",
   "pygments_lexer": "ipython3",
   "version": "3.11.5"
  }
 },
 "nbformat": 4,
 "nbformat_minor": 5
}
